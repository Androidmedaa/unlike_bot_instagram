{
 "cells": [
  {
   "cell_type": "markdown",
   "id": "138d1b1b",
   "metadata": {},
   "source": [
    "Bu bir instagram begenilerini kaldırma botudur"
   ]
  },
  {
   "cell_type": "code",
   "execution_count": 12,
   "id": "f5e0f4eb",
   "metadata": {},
   "outputs": [],
   "source": [
    "# Selenium imports buraya\n",
    "from selenium import webdriver\n",
    "from selenium.webdriver.common.keys import Keys\n",
    "from selenium.webdriver.support import expected_conditions as EC\n",
    "from selenium.webdriver.common.by import By\n",
    "from selenium.webdriver.support.ui import WebDriverWait\n",
    "from selenium.webdriver.chrome.options import Options\n",
    "from selenium.webdriver.chrome.service import Service"
   ]
  },
  {
   "cell_type": "code",
   "execution_count": 13,
   "id": "1c0b81ca",
   "metadata": {},
   "outputs": [],
   "source": [
    "#other imports buraya\n",
    "import os\n",
    "import wget"
   ]
  },
  {
   "cell_type": "markdown",
   "id": "7e3f7e44",
   "metadata": {},
   "source": [
    "Log in to you instagram account"
   ]
  },
  {
   "cell_type": "code",
   "execution_count": 14,
   "id": "d2243217",
   "metadata": {},
   "outputs": [],
   "source": [
    "service=Service(\"C:/Program Files (x86)/chromedriver.exe\") #chromedriver path'i"
   ]
  },
  {
   "cell_type": "code",
   "execution_count": 15,
   "id": "a0c44e30",
   "metadata": {},
   "outputs": [],
   "source": [
    "driver=webdriver.Chrome(service=service)\n",
    "driver.get(\"https://www.instagram.com\")"
   ]
  },
  {
   "cell_type": "code",
   "execution_count": 16,
   "id": "3ca3544d",
   "metadata": {},
   "outputs": [],
   "source": [
    "username=WebDriverWait(driver,10).until(EC.element_to_be_clickable((By.CSS_SELECTOR,\"input[name='username']\")))\n",
    "password=WebDriverWait(driver,10).until(EC.element_to_be_clickable((By.CSS_SELECTOR,\"input[name='password']\")))\n",
    "username.clear()\n",
    "password.clear()\n",
    "username.send_keys('your_username')\n",
    "password.send_keys('your_password')"
   ]
  },
  {
   "cell_type": "code",
   "execution_count": 17,
   "id": "23881f0a",
   "metadata": {},
   "outputs": [],
   "source": [
    "log_in=WebDriverWait(driver,15).until(EC.element_to_be_clickable((By.CSS_SELECTOR,\"button[type='submit']\"))).click()"
   ]
  },
  {
   "cell_type": "code",
   "execution_count": 18,
   "id": "c7407781",
   "metadata": {},
   "outputs": [],
   "source": [
    "save=WebDriverWait(driver,10).until(EC.element_to_be_clickable((By.XPATH,\"//button[contains(text(), 'Bilgileri kaydet')]\"))).click()"
   ]
  },
  {
   "cell_type": "code",
   "execution_count": 19,
   "id": "63dab582",
   "metadata": {},
   "outputs": [],
   "source": [
    "not_now=WebDriverWait(driver,10).until(EC.element_to_be_clickable((By.XPATH,\"//button[contains(text(), 'Şimdi Değil')]\"))).click()"
   ]
  },
  {
   "cell_type": "code",
   "execution_count": 20,
   "id": "c435d67b",
   "metadata": {},
   "outputs": [],
   "source": [
    "my_profile=WebDriverWait(driver,10).until(EC.element_to_be_clickable((By.XPATH,\"//a[@href='/your_username/']\"))).click()\n"
   ]
  },
  {
   "cell_type": "code",
   "execution_count": 22,
   "id": "9f7e44b9",
   "metadata": {},
   "outputs": [],
   "source": [
    "more=WebDriverWait(driver,10).until(EC.element_to_be_clickable((By.XPATH,\"//a[@href='/your_activity/interactions']\"))).click()\n"
   ]
  },
  
 }
   ],
   "source": [
    "while True:\n",
    "    choose=WebDriverWait(driver,10).until(EC.element_to_be_clickable((By.XPATH,\"//div[@role='button']//span[text()='Seç']\"))).click()\n",
    "    elements = WebDriverWait(driver, 10).until(\n",
    "    EC.presence_of_all_elements_located((By.XPATH, \"//div[@role='button' and @aria-label='Kutuyu işaretle / işaretini kaldır']\")))\n",
    "    for i in range(min(15, len(elements))):\n",
    "        driver.execute_script(\"arguments[0].style.pointerEvents = 'auto';\", elements[i])\n",
    "        driver.execute_script(\"arguments[0].click();\", elements[i])\n",
    "    unlike_button = WebDriverWait(driver, 10).until(\n",
    "    EC.presence_of_element_located((By.XPATH, \"//div[@role='button']//span[text()='Beğenmekten Vazgeç']\")))\n",
    "\n",
    "    unlike_button.click()\n",
    "\n",
    "    really_giveuplike=WebDriverWait(driver,10).until(EC.element_to_be_clickable((By.XPATH,\"//button//div[text()='Beğenmekten Vazgeç']\"))).click()\n",
    "    import time\n",
    "\n",
    "    time.sleep(30)\n",
    "    print(\"işlem başarili\")"
   ]
  },
  {
   "cell_type": "code",
   "execution_count": null,
   "id": "4873ac30",
   "metadata": {},
   "outputs": [],
   "source": []
  }
 ],
 "metadata": {
  "kernelspec": {
   "display_name": "Python 3 (ipykernel)",
   "language": "python",
   "name": "python3"
  },
  "language_info": {
   "codemirror_mode": {
    "name": "ipython",
    "version": 3
   },
   "file_extension": ".py",
   "mimetype": "text/x-python",
   "name": "python",
   "nbconvert_exporter": "python",
   "pygments_lexer": "ipython3",
   "version": "3.9.13"
  }
 },
 "nbformat": 4,
 "nbformat_minor": 5
}
